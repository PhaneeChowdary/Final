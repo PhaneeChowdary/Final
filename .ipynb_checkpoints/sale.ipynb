{
 "cells": [
  {
   "cell_type": "markdown",
   "id": "df1c2c34",
   "metadata": {},
   "source": [
    "# **Sales Analysis**"
   ]
  },
  {
   "cell_type": "markdown",
   "id": "0dbc3082",
   "metadata": {},
   "source": [
    "## **Definitions**\n",
    "\n",
    "- **Total Revenue** - Total revenue in sales including the tax revenue. This is the total amount of money coming in including tax and without subtracting costs. This amounts to the sum of each sales transaction expressed as `Price * Quantity + State Tax` . **Note** `State Tax` is `(Price * Quantity) * State Tax Rate` , so combining the two expressions, `Total Revenue` could be described as `Price * Quantity * (1 + State Tax Rate)`\n",
    "\n",
    "\n",
    "- **Gross Profit** - Total profit in sales after subtracting tax revenue and subtracting product costs.This amounts to the sum of each sales transaction ( `(Price - Cost) * Quantity)` ).\n",
    "\n",
    "\n",
    "- **Net Profit** - Total profit in sales after subtracting additional business expenses. This is the total amount of money left after subtracting all costs. This amounts to the expression `Gross Profit for a Given Period - All Additional Business Expenses for a Given Period `."
   ]
  },
  {
   "cell_type": "code",
   "execution_count": 1,
   "id": "d1938800",
   "metadata": {},
   "outputs": [],
   "source": [
    "import pandas"
   ]
  },
  {
   "cell_type": "code",
   "execution_count": 2,
   "id": "95780359",
   "metadata": {},
   "outputs": [],
   "source": [
    "def prepare_state_codes_mapping():\n",
    "    file_content = pandas.read_csv(\"state_code_mapping.txt\", header=None, delimiter=\":\")\n",
    "    result = {}\n",
    "    for row in file_content.values:\n",
    "        result[row[0]] = row[1]\n",
    "    return result"
   ]
  },
  {
   "cell_type": "code",
   "execution_count": 3,
   "id": "4bc2bfeb",
   "metadata": {},
   "outputs": [],
   "source": [
    "def prepare_moths_mapping():\n",
    "    return [\n",
    "        \"January\",\n",
    "        \"February\",\n",
    "        \"March\",\n",
    "        \"April\",\n",
    "        \"May\",\n",
    "        \"June\",\n",
    "        \"July\",\n",
    "        \"August\",\n",
    "        \"September\",\n",
    "        \"October\",\n",
    "        \"November\",\n",
    "        \"December\"\n",
    "    ]"
   ]
  },
  {
   "cell_type": "code",
   "execution_count": 4,
   "id": "3380b46f",
   "metadata": {},
   "outputs": [],
   "source": [
    "def read_csv(file_path, field_sep=\",\", record_sep=\"\\n\"):\n",
    "    file_content = pandas.read_csv(file_path, delimiter=field_sep)\n",
    "    parsed_file_content = file_content.fillna(\"\")\n",
    "    result = parsed_file_content.to_dict(orient='records')\n",
    "    return result"
   ]
  },
  {
   "cell_type": "code",
   "execution_count": 5,
   "id": "b7a73868",
   "metadata": {},
   "outputs": [],
   "source": [
    "state_codes_map = prepare_state_codes_mapping()\n",
    "months_list = prepare_moths_mapping()\n",
    "parsed_customer_data = read_csv(\"customers.csv\")\n",
    "parsed_products_data = read_csv(\"products.csv\")\n",
    "parsed_sales_tax_data = read_csv(\"sales_tax.csv\")\n",
    "parsed_expenses_data = read_csv(\"expenses.csv\")"
   ]
  },
  {
   "cell_type": "code",
   "execution_count": 6,
   "id": "fbe10094",
   "metadata": {},
   "outputs": [],
   "source": [
    "def fix_customer_data(customer_data):\n",
    "    for row_value in customer_data:\n",
    "        if len(row_value[\"State\"]) > 2 and len(row_value[\"Zip\"]) == 2:\n",
    "            row_value[\"State\"], row_value[\"Zip\"] = row_value[\"Zip\"], row_value[\"State\"]\n",
    "    return customer_data"
   ]
  },
  {
   "cell_type": "code",
   "execution_count": 7,
   "id": "0342ca83",
   "metadata": {},
   "outputs": [],
   "source": [
    "def fetch_product_price(row_value):\n",
    "    product_code = row_value[\"ProductId\"]\n",
    "    for product_value in parsed_products_data:\n",
    "        if product_value[\"ProductId\"] == product_code:\n",
    "            return float(product_value[\"Price\"])\n",
    "    return 0"
   ]
  },
  {
   "cell_type": "code",
   "execution_count": 8,
   "id": "5a3eb807",
   "metadata": {},
   "outputs": [],
   "source": [
    "def fetch_state_name(row_value):\n",
    "    customer_code = row_value[\"CustomerId\"]\n",
    "    for customer_value in parsed_customer_data:\n",
    "        if customer_value[\"CustomerId\"] == customer_code and len(customer_value[\"State\"]) == 2:\n",
    "            return state_codes_map[customer_value[\"State\"]]\n",
    "    return \"\""
   ]
  },
  {
   "cell_type": "code",
   "execution_count": 9,
   "id": "c6c98e8a",
   "metadata": {},
   "outputs": [],
   "source": [
    "def fetch_tax_string(state_name):\n",
    "    for tax_rate_value in parsed_sales_tax_data:\n",
    "        if tax_rate_value[\"State\"] == state_name and tax_rate_value[\"Rate\"] != \"N/A\":\n",
    "            return tax_rate_value[\"Rate\"]\n",
    "    return \"\""
   ]
  },
  {
   "cell_type": "code",
   "execution_count": 10,
   "id": "4cad4357",
   "metadata": {},
   "outputs": [],
   "source": [
    "def fetch_product_gross(row_value):\n",
    "    product_code = row_value[\"ProductId\"]\n",
    "    for product_value in parsed_products_data:\n",
    "        if product_value[\"ProductId\"] == product_code:\n",
    "            return float(product_value[\"Price\"]) - float(product_value[\"Cost\"])\n",
    "    return 0"
   ]
  },
  {
   "cell_type": "code",
   "execution_count": 11,
   "id": "99e9fcf1",
   "metadata": {},
   "outputs": [],
   "source": [
    "def fetch_expenses(month_num):\n",
    "    for expense_value in parsed_expenses_data:\n",
    "        if expense_value[\"Month\"] == month_num:\n",
    "            return float(expense_value[\"Expenses\"])\n",
    "    return 0"
   ]
  },
  {
   "cell_type": "code",
   "execution_count": 12,
   "id": "1fe5a8d9",
   "metadata": {},
   "outputs": [],
   "source": [
    "def prepare_product_map():\n",
    "    result_map = {}\n",
    "    for item in parsed_products_data:\n",
    "        result_map[item[\"ProductId\"]] = 0\n",
    "    return result_map"
   ]
  },
  {
   "cell_type": "code",
   "execution_count": 13,
   "id": "91019907",
   "metadata": {},
   "outputs": [],
   "source": [
    "def fetch_product_annual_price(row_value):\n",
    "    product_code = row_value[\"ProductId\"]\n",
    "    result = 0\n",
    "    for product_value in parsed_products_data:\n",
    "        if product_value[\"ProductId\"] == product_code:\n",
    "            result = float(product_value[\"Price\"])\n",
    "    return {\"product_code\": product_code, \"price\": result}"
   ]
  },
  {
   "cell_type": "code",
   "execution_count": 14,
   "id": "cbedfa77",
   "metadata": {},
   "outputs": [],
   "source": [
    "def fetch_state_name(row_value):\n",
    "    customer_code = row_value[\"CustomerId\"]\n",
    "    for customer_value in parsed_customer_data:\n",
    "        if customer_value[\"CustomerId\"] == customer_code and len(customer_value[\"State\"]) == 2:\n",
    "            return state_codes_map[customer_value[\"State\"]]\n",
    "    return \"\""
   ]
  },
  {
   "cell_type": "code",
   "execution_count": 15,
   "id": "7db79865",
   "metadata": {},
   "outputs": [],
   "source": [
    "def fetch_tax_string(state_name):\n",
    "    for tax_rate_value in parsed_sales_tax_data:\n",
    "        if tax_rate_value[\"State\"] == state_name and tax_rate_value[\"Rate\"] != \"N/A\":\n",
    "            return tax_rate_value[\"Rate\"]\n",
    "    return \"\""
   ]
  },
  {
   "cell_type": "code",
   "execution_count": 16,
   "id": "f7a120dd",
   "metadata": {},
   "outputs": [],
   "source": [
    "def fetch_product_code(row_value):\n",
    "    return row_value[\"ProductId\"]"
   ]
  },
  {
   "cell_type": "code",
   "execution_count": 17,
   "id": "3d7283a0",
   "metadata": {},
   "outputs": [],
   "source": [
    "def fetch_product_annual_gross(row_value):\n",
    "    product_code = row_value[\"ProductId\"]\n",
    "    for product_value in parsed_products_data:\n",
    "        if product_value[\"ProductId\"] == product_code:\n",
    "            value = float(product_value[\"Price\"]) - float(product_value[\"Cost\"])\n",
    "    return {\"product_code\": product_code, \"gross\": value}"
   ]
  },
  {
   "cell_type": "code",
   "execution_count": 18,
   "id": "5e53b531",
   "metadata": {},
   "outputs": [],
   "source": [
    "def get_map_max(mapping, format_flag = True):\n",
    "    curr_max = 0\n",
    "    product_id = \"\"\n",
    "    for item in mapping:\n",
    "        if curr_max < mapping[item]:\n",
    "            curr_max = mapping[item]\n",
    "            product_id = item\n",
    "    if format_flag == True:\n",
    "        curr_max = \"{:,.2f}\".format(curr_max)\n",
    "    else:\n",
    "        curr_max = \"{:,}\".format(curr_max)\n",
    "    return {\"product_code\": product_id, \"value\": curr_max}"
   ]
  },
  {
   "cell_type": "code",
   "execution_count": 19,
   "id": "12fbff72",
   "metadata": {},
   "outputs": [],
   "source": [
    "def get_map_min(mapping, format_flag = True):\n",
    "    curr_min = -1\n",
    "    product_id = \"\"\n",
    "    for item in mapping:\n",
    "        if curr_min > mapping[item] or curr_min == -1.0:\n",
    "            curr_min = mapping[item]\n",
    "            product_id = item\n",
    "    if format_flag == True:\n",
    "        curr_min = \"{:,.2f}\".format(curr_min)\n",
    "    else:\n",
    "        curr_min = \"{:,}\".format(curr_min)\n",
    "    return {\"product_code\": product_id, \"value\": curr_min}"
   ]
  },
  {
   "cell_type": "code",
   "execution_count": 20,
   "id": "9bf7d781",
   "metadata": {},
   "outputs": [],
   "source": [
    "def fetch_monthly_details():\n",
    "    sales_path = \"sales-^.csv\"\n",
    "    revenue_list = []\n",
    "    gross_list = []\n",
    "    net_list = []\n",
    "    for index in range(0, len(months_list)):\n",
    "        sales_file_path = \"sales-\"\n",
    "        if index + 1 < 10:\n",
    "            sales_file_path = sales_file_path + \"0\" + str(index + 1)\n",
    "        else:\n",
    "            sales_file_path = sales_file_path + str(index + 1)\n",
    "        sales_file_path = sales_file_path + \".csv\"\n",
    "        sales_data = read_csv(sales_file_path)\n",
    "        total_revenue = 0\n",
    "        gross_profit = 0\n",
    "        for row in sales_data:\n",
    "            quantity = int(row[\"Quantity\"])\n",
    "            price = fetch_product_price(row)\n",
    "            state = fetch_state_name(row)\n",
    "            product_gross = fetch_product_gross(row)\n",
    "            gross_profit = gross_profit + product_gross * quantity\n",
    "            tax_rate_str = fetch_tax_string(state)\n",
    "            tax_rate = 0\n",
    "            if len(tax_rate_str) > 0:\n",
    "                tax_rate = float(tax_rate_str[0: tax_rate_str.index(\"%\")])\n",
    "            total_revenue = total_revenue + price * quantity * (1 + (tax_rate/100))\n",
    "        parsed_solution = \"{:,.2f}\".format(round(total_revenue, 2))\n",
    "        revenue_list.append(parsed_solution)\n",
    "        parsed_solution = \"{:,.2f}\".format(round(gross_profit, 2))\n",
    "        gross_list.append(parsed_solution)\n",
    "        expense_val = fetch_expenses(index + 1)\n",
    "        net_profit = gross_profit - expense_val\n",
    "        parsed_solution = \"{:,.2f}\".format(round(net_profit, 2))\n",
    "        net_list.append(parsed_solution)\n",
    "    return revenue_list, gross_list, net_list"
   ]
  },
  {
   "cell_type": "code",
   "execution_count": 21,
   "id": "87e526f2",
   "metadata": {},
   "outputs": [],
   "source": [
    "def fetch_annual_details():\n",
    "    sales_path = \"sales-^.csv\"\n",
    "    revenue_map = prepare_product_map()\n",
    "    quantity_map = prepare_product_map()\n",
    "    profit_mapping = prepare_product_map()\n",
    "    for index in range(0, len(months_list)):\n",
    "        sales_file_path = \"sales-\"\n",
    "        if index + 1 < 10:\n",
    "            sales_file_path = sales_file_path + \"0\" + str(index + 1)\n",
    "        else:\n",
    "            sales_file_path = sales_file_path + str(index + 1)\n",
    "        sales_file_path = sales_file_path + \".csv\"\n",
    "        sales_data = read_csv(sales_file_path)\n",
    "        total_revenue = 0\n",
    "        for row in sales_data:\n",
    "            quantity = int(row[\"Quantity\"])\n",
    "            product_code = fetch_product_code(row)\n",
    "            product_details = fetch_product_annual_price(row)\n",
    "            state = fetch_state_name(row)\n",
    "            product_profit = fetch_product_annual_gross(row)\n",
    "            tax_rate_str = fetch_tax_string(state)\n",
    "            tax_rate = 0.0\n",
    "            if len(tax_rate_str) > 0:\n",
    "                tax_rate = float(tax_rate_str[0: tax_rate_str.index(\"%\")])\n",
    "            revenue_map[product_details[\"product_code\"]]+=(product_details[\"price\"] * quantity * (tax_rate/100))\n",
    "            quantity_map[product_code]+=quantity\n",
    "            profit_mapping[product_profit[\"product_code\"]]+=(product_profit[\"gross\"] * quantity)\n",
    "    return revenue_map, quantity_map, profit_mapping"
   ]
  },
  {
   "cell_type": "markdown",
   "id": "d26c895d",
   "metadata": {},
   "source": [
    "1. Given the `customers.csv` data file, what percent of `FirstName` fields are left blank?"
   ]
  },
  {
   "cell_type": "code",
   "execution_count": 22,
   "id": "3604c3e2",
   "metadata": {},
   "outputs": [
    {
     "name": "stdout",
     "output_type": "stream",
     "text": [
      "01. Solution to question 1 is 5.25%\n"
     ]
    }
   ],
   "source": [
    "count = 0\n",
    "total = 0\n",
    "for row_value in parsed_customer_data:\n",
    "    total = total + 1\n",
    "    if len(row_value[\"FirstName\"]) <= 0:\n",
    "        count = count + 1\n",
    "solution_str = str(round((count * 100) / total, 2)) + \"%\"\n",
    "print(\"01. Solution to question 1 is \" + solution_str)"
   ]
  },
  {
   "cell_type": "markdown",
   "id": "a8f3c8b1",
   "metadata": {},
   "source": [
    "2. Given the `customers.csv` data file, what percent of `LastName` fields are left blank?"
   ]
  },
  {
   "cell_type": "code",
   "execution_count": 23,
   "id": "1236952d",
   "metadata": {},
   "outputs": [
    {
     "name": "stdout",
     "output_type": "stream",
     "text": [
      "02. Solution to question 2 is 3.18%\n"
     ]
    }
   ],
   "source": [
    "count = 0\n",
    "total = 0\n",
    "for row_value in parsed_customer_data:\n",
    "    total = total + 1\n",
    "    if len(row_value[\"LastName\"]) <= 0:\n",
    "        count = count + 1\n",
    "solution_str = str(round((count * 100) / total, 2)) + \"%\"\n",
    "print(\"02. Solution to question 2 is \" + solution_str)"
   ]
  },
  {
   "cell_type": "markdown",
   "id": "093b739d",
   "metadata": {},
   "source": [
    "3. Given the `customers.csv` data file, what percent of `Zip` fields are left blank?"
   ]
  },
  {
   "cell_type": "code",
   "execution_count": 24,
   "id": "069e7f4c",
   "metadata": {},
   "outputs": [
    {
     "name": "stdout",
     "output_type": "stream",
     "text": [
      "03. Solution to question 3 is 1.27%\n"
     ]
    }
   ],
   "source": [
    "count = 0\n",
    "total = 0\n",
    "for row_value in parsed_customer_data:\n",
    "    total = total + 1\n",
    "    if len(row_value[\"Zip\"]) <= 0:\n",
    "        count = count + 1\n",
    "solution_str = str(round((count * 100) / total, 2)) + \"%\"\n",
    "print(\"03. Solution to question 3 is \" + solution_str)"
   ]
  },
  {
   "cell_type": "markdown",
   "id": "616c4030",
   "metadata": {},
   "source": [
    "4. Given the `customers.csv` data file, what percent of `State` fields are left blank?"
   ]
  },
  {
   "cell_type": "code",
   "execution_count": 25,
   "id": "dbee4b26",
   "metadata": {},
   "outputs": [
    {
     "name": "stdout",
     "output_type": "stream",
     "text": [
      "04. Solution to question 4 is 2.15%\n"
     ]
    }
   ],
   "source": [
    "count = 0\n",
    "total = 0\n",
    "for row_value in parsed_customer_data:\n",
    "    total = total + 1\n",
    "    if len(row_value[\"State\"]) <= 0:\n",
    "        count = count + 1\n",
    "solution_str = str(round((count * 100) / total, 2)) + \"%\"\n",
    "print(\"04. Solution to question 4 is \" + solution_str)"
   ]
  },
  {
   "cell_type": "markdown",
   "id": "c65aa678",
   "metadata": {},
   "source": [
    "5. Given the `customers.csv` data file, what percent of `Zip` and `State` fields switched?"
   ]
  },
  {
   "cell_type": "code",
   "execution_count": 26,
   "id": "287de5f0",
   "metadata": {},
   "outputs": [
    {
     "name": "stdout",
     "output_type": "stream",
     "text": [
      "05. Solution to question 5 is 1.35%\n"
     ]
    }
   ],
   "source": [
    "count = 0\n",
    "total = 0\n",
    "for row_value in parsed_customer_data:\n",
    "    total = total + 1\n",
    "    if len(row_value[\"State\"]) > 2 and len(row_value[\"Zip\"]) == 2:\n",
    "        count = count + 1\n",
    "solution_str = str(round((count * 100) / total, 2)) + \"%\"\n",
    "print(\"05. Solution to question 5 is \" + solution_str)"
   ]
  },
  {
   "cell_type": "code",
   "execution_count": 27,
   "id": "c2e3bea9",
   "metadata": {},
   "outputs": [],
   "source": [
    "parsed_customer_data = fix_customer_data(parsed_customer_data)\n",
    "monthly_revenue_details, monthly_gross__profit_details, monthly_net_profit_details = fetch_monthly_details()\n",
    "annual_revenue_details, annual_quantity_details, annual_profit_details = fetch_annual_details()"
   ]
  },
  {
   "cell_type": "markdown",
   "id": "531afa7a",
   "metadata": {},
   "source": [
    "6. Which month saw the **largest** total revenue, and what was the value?"
   ]
  },
  {
   "cell_type": "code",
   "execution_count": 28,
   "id": "35a5f1ee",
   "metadata": {},
   "outputs": [
    {
     "name": "stdout",
     "output_type": "stream",
     "text": [
      "06. Solution to question 6 is $ 432,267.18, October\n"
     ]
    }
   ],
   "source": [
    "value = max(monthly_revenue_details)\n",
    "month_name = months_list[monthly_revenue_details.index(value)]\n",
    "print(\"06. Solution to question 6 is $ \" + value + \", \" + month_name)"
   ]
  },
  {
   "cell_type": "markdown",
   "id": "7492d3d7",
   "metadata": {},
   "source": [
    "7. Which month saw the **largest** gross profit, and what was the value?"
   ]
  },
  {
   "cell_type": "code",
   "execution_count": 29,
   "id": "27bcfae8",
   "metadata": {},
   "outputs": [
    {
     "name": "stdout",
     "output_type": "stream",
     "text": [
      "07. Solution to question 7 is $ 213,642.37, October\n"
     ]
    }
   ],
   "source": [
    "value = max(monthly_gross__profit_details)\n",
    "month_name = months_list[monthly_gross__profit_details.index(value)]\n",
    "print(\"07. Solution to question 7 is $ \" + value + \", \" + month_name)"
   ]
  },
  {
   "cell_type": "markdown",
   "id": "f1fa07e0",
   "metadata": {},
   "source": [
    "8. Which month saw the **largest** net profit, and what was the value?"
   ]
  },
  {
   "cell_type": "code",
   "execution_count": 30,
   "id": "674538f1",
   "metadata": {},
   "outputs": [
    {
     "name": "stdout",
     "output_type": "stream",
     "text": [
      "08. Solution to question 8 is $ 212,986.06, October\n"
     ]
    }
   ],
   "source": [
    "value = max(monthly_net_profit_details)\n",
    "month_name = months_list[monthly_net_profit_details.index(value)]\n",
    "print(\"08. Solution to question 8 is $ \" + value + \", \" + month_name)"
   ]
  },
  {
   "cell_type": "markdown",
   "id": "9df73627",
   "metadata": {},
   "source": [
    "9. Which month saw the **smallest** total revenue, and what was the value?"
   ]
  },
  {
   "cell_type": "code",
   "execution_count": 31,
   "id": "aafd272d",
   "metadata": {},
   "outputs": [
    {
     "name": "stdout",
     "output_type": "stream",
     "text": [
      "09. Solution to question 9 is $ 391,460.37, February\n"
     ]
    }
   ],
   "source": [
    "value = min(monthly_revenue_details)\n",
    "month_name = months_list[monthly_revenue_details.index(value)]\n",
    "print(\"09. Solution to question 9 is $ \" + value + \", \" + month_name)"
   ]
  },
  {
   "cell_type": "markdown",
   "id": "9de518a2",
   "metadata": {},
   "source": [
    "10. Which month saw the **smallest** gross profit, and what was the value?"
   ]
  },
  {
   "cell_type": "code",
   "execution_count": 32,
   "id": "6c609712",
   "metadata": {},
   "outputs": [
    {
     "name": "stdout",
     "output_type": "stream",
     "text": [
      "10. Solution to question 10 is $ 193,381.52, February\n"
     ]
    }
   ],
   "source": [
    "value = min(monthly_gross__profit_details)\n",
    "month_name = months_list[monthly_gross__profit_details.index(value)]\n",
    "print(\"10. Solution to question 10 is $ \" + value + \", \" + month_name)"
   ]
  },
  {
   "cell_type": "markdown",
   "id": "806fff16",
   "metadata": {},
   "source": [
    "11. Which month saw the **smallest** net profit, and what was the value?"
   ]
  },
  {
   "cell_type": "code",
   "execution_count": 33,
   "id": "c4e5a992",
   "metadata": {},
   "outputs": [
    {
     "name": "stdout",
     "output_type": "stream",
     "text": [
      "11. Solution to question 11 is $ 192,668.65, February\n"
     ]
    }
   ],
   "source": [
    "value = min(monthly_net_profit_details)\n",
    "month_name = months_list[monthly_net_profit_details.index(value)]\n",
    "print(\"11. Solution to question 11 is $ \" + value + \", \" + month_name)"
   ]
  },
  {
   "cell_type": "markdown",
   "id": "1d587d96",
   "metadata": {},
   "source": [
    "12. What product generated the **most** revenue over the entire year ( `Price * Quantity * State Sales Tax` ), and what was the amount?"
   ]
  },
  {
   "cell_type": "code",
   "execution_count": 34,
   "id": "fb2b3a3c",
   "metadata": {},
   "outputs": [
    {
     "name": "stdout",
     "output_type": "stream",
     "text": [
      "12. Solution to question 12 is $ 64,517.93, Fidget\n"
     ]
    }
   ],
   "source": [
    "answer = get_map_max(annual_revenue_details)\n",
    "print(\"12. Solution to question 12 is $ \" + answer[\"value\"] + \", \" + answer[\"product_code\"])"
   ]
  },
  {
   "cell_type": "markdown",
   "id": "24338efa",
   "metadata": {},
   "source": [
    "13. What product sold the **best** in terms of quantity ( `Total Quantity Sold` ), and what was the number?"
   ]
  },
  {
   "cell_type": "code",
   "execution_count": 35,
   "id": "ff99cab2",
   "metadata": {},
   "outputs": [
    {
     "name": "stdout",
     "output_type": "stream",
     "text": [
      "13. Solution to question 13 is 92,305, Widget\n"
     ]
    }
   ],
   "source": [
    "answer = get_map_max(annual_quantity_details, False)\n",
    "print(\"13. Solution to question 13 is \" + answer[\"value\"] + \", \" + answer[\"product_code\"])"
   ]
  },
  {
   "cell_type": "markdown",
   "id": "5234ead6",
   "metadata": {},
   "source": [
    "14. What product was the **most** profitable over the entire year ( `Gross Profit` ), and what was the amount?"
   ]
  },
  {
   "cell_type": "code",
   "execution_count": 36,
   "id": "164c273f",
   "metadata": {},
   "outputs": [
    {
     "name": "stdout",
     "output_type": "stream",
     "text": [
      "14. Solution to question 14 is $ 561,638.40, Fidget\n"
     ]
    }
   ],
   "source": [
    "answer = get_map_max(annual_profit_details)\n",
    "print(\"14. Solution to question 14 is $ \" + answer[\"value\"] + \", \" + answer[\"product_code\"])"
   ]
  },
  {
   "cell_type": "markdown",
   "id": "241f9d3e",
   "metadata": {},
   "source": [
    "15. What product generated the **least** revenue over the entire year ( `Price * Quantity * State Sales Tax` ), and what was the amount?"
   ]
  },
  {
   "cell_type": "code",
   "execution_count": 37,
   "id": "74ca426d",
   "metadata": {},
   "outputs": [
    {
     "name": "stdout",
     "output_type": "stream",
     "text": [
      "15. Solution to question 15 is $ 9,307.63, Bauble\n"
     ]
    }
   ],
   "source": [
    "answer = get_map_min(annual_revenue_details)\n",
    "print(\"15. Solution to question 15 is $ \" + answer[\"value\"] + \", \" + answer[\"product_code\"])"
   ]
  },
  {
   "cell_type": "markdown",
   "id": "12d6cef2",
   "metadata": {},
   "source": [
    "16. What product sold the **worst** in terms of quantity ( `Total Quantity Sold` ), and what was the number?"
   ]
  },
  {
   "cell_type": "code",
   "execution_count": 38,
   "id": "d7393d5d",
   "metadata": {},
   "outputs": [
    {
     "name": "stdout",
     "output_type": "stream",
     "text": [
      "16. Solution to question 16 is 89,330, Doodad\n"
     ]
    }
   ],
   "source": [
    "answer = get_map_min(annual_quantity_details, False)\n",
    "print(\"16. Solution to question 16 is \" + answer[\"value\"] + \", \" + answer[\"product_code\"])"
   ]
  },
  {
   "cell_type": "markdown",
   "id": "41bff9b9",
   "metadata": {},
   "source": [
    "17. What product was the **least** profitable over the entire year ( `Gross Profit` ), and what was the amount?"
   ]
  },
  {
   "cell_type": "code",
   "execution_count": 39,
   "id": "2c51143a",
   "metadata": {},
   "outputs": [
    {
     "name": "stdout",
     "output_type": "stream",
     "text": [
      "17. Solution to question 17 is $ 120,162.84, Trinket\n"
     ]
    }
   ],
   "source": [
    "answer = get_map_min(annual_profit_details)\n",
    "print(\"17. Solution to question 17 is $ \" + answer[\"value\"] + \", \" + answer[\"product_code\"])"
   ]
  }
 ],
 "metadata": {
  "kernelspec": {
   "display_name": "Python 3 (ipykernel)",
   "language": "python",
   "name": "python3"
  },
  "language_info": {
   "codemirror_mode": {
    "name": "ipython",
    "version": 3
   },
   "file_extension": ".py",
   "mimetype": "text/x-python",
   "name": "python",
   "nbconvert_exporter": "python",
   "pygments_lexer": "ipython3",
   "version": "3.8.9"
  }
 },
 "nbformat": 4,
 "nbformat_minor": 5
}
